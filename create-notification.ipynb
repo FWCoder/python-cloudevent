{
 "cells": [
  {
   "cell_type": "code",
   "execution_count": 13,
   "metadata": {},
   "outputs": [],
   "source": [
    "# Warning!!!: On all those variables, don't remove the starting/ending quotes when doing copy/paste\n",
    "# Enter the main namespace name of this lab. It should be in the form xraylab-{guid}, like xraylab-f2d5\n",
    "namespace = 'xraylab-0001'\n",
    "\n",
    "# Enter you bucket base name. That's the same one you have put in the config map. It should be identical as your namespace if you have followed instructions.\n",
    "bucket_base_name = 'xraylab-0001'\n",
    "\n",
    "# Enter you Access and Secret keys. They're the ones that were displayed in the instructions.\n",
    "aws_access_key_id = '02JMAK69UEON1JGYKSN9'\n",
    "aws_secret_access_key = 'fedp7q3LodO2hiGQyP2SVJSTDwL6BfScMjBLs0ey'\n",
    "\n",
    "# Do not change this value, this is the internal location for the RGW\n",
    "endpoint_url = 'http://rook-ceph-rgw-s3a.openshift-storage.svc.cluster.local'\n",
    "\n",
    "attributes = {}\n",
    "attributes['push-endpoint'] = 'kafka://my-cluster-kafka-bootstrap.'+namespace+':9092'\n",
    "attributes['kafka-ack-level'] = 'broker'"
   ]
  },
  {
   "cell_type": "code",
   "execution_count": 14,
   "metadata": {},
   "outputs": [
    {
     "name": "stdout",
     "output_type": "stream",
     "text": [
      "Requirement already satisfied: boto3 in /opt/app-root/lib/python3.6/site-packages (1.17.14)\n",
      "Requirement already satisfied: s3transfer<0.4.0,>=0.3.0 in /opt/app-root/lib/python3.6/site-packages (from boto3) (0.3.4)\n",
      "Requirement already satisfied: jmespath<1.0.0,>=0.7.1 in /opt/app-root/lib/python3.6/site-packages (from boto3) (0.10.0)\n",
      "Requirement already satisfied: botocore<1.21.0,>=1.20.14 in /opt/app-root/lib/python3.6/site-packages (from boto3) (1.20.14)\n",
      "Requirement already satisfied: urllib3<1.27,>=1.25.4 in /opt/app-root/lib/python3.6/site-packages (from botocore<1.21.0,>=1.20.14->boto3) (1.26.3)\n",
      "Requirement already satisfied: python-dateutil<3.0.0,>=2.1 in /opt/app-root/lib/python3.6/site-packages (from botocore<1.21.0,>=1.20.14->boto3) (2.8.1)\n",
      "Requirement already satisfied: six>=1.5 in /opt/app-root/lib/python3.6/site-packages (from python-dateutil<3.0.0,>=2.1->botocore<1.21.0,>=1.20.14->boto3) (1.15.0)\n",
      "\u001b[33mWARNING: You are using pip version 20.2.2; however, version 21.0.1 is available.\n",
      "You should consider upgrading via the '/opt/app-root/bin/python3.6 -m pip install --upgrade pip' command.\u001b[0m\n",
      "Note: you may need to restart the kernel to use updated packages.\n"
     ]
    }
   ],
   "source": [
    "pip install boto3"
   ]
  },
  {
   "cell_type": "code",
   "execution_count": 15,
   "metadata": {},
   "outputs": [],
   "source": [
    "import boto3\n",
    "import json\n",
    "import botocore\n",
    "import argparse"
   ]
  },
  {
   "cell_type": "code",
   "execution_count": 16,
   "metadata": {},
   "outputs": [],
   "source": [
    "s3 = boto3.client('s3',\n",
    "                endpoint_url = endpoint_url,\n",
    "                aws_access_key_id = aws_access_key_id,\n",
    "                aws_secret_access_key = aws_secret_access_key,\n",
    "                region_name = 'default',\n",
    "                config=botocore.client.Config(signature_version = 's3'))\n",
    "\n",
    "sns = boto3.client('sns', \n",
    "                endpoint_url = endpoint_url, \n",
    "                aws_access_key_id = aws_access_key_id,\n",
    "                aws_secret_access_key= aws_secret_access_key,\n",
    "                region_name='default', \n",
    "                config=botocore.client.Config(signature_version = 's3'))"
   ]
  },
  {
   "cell_type": "code",
   "execution_count": 17,
   "metadata": {},
   "outputs": [
    {
     "name": "stdout",
     "output_type": "stream",
     "text": [
      "xraylab-0001\n",
      "xraylab-0001-anonymized\n",
      "xraylab-0001-kogito-inbound\n",
      "xraylab-0001-kogito-outbound\n",
      "xraylab-0001-processed\n"
     ]
    }
   ],
   "source": [
    "for bucket in s3.list_buckets()['Buckets']:\n",
    "    print(bucket['Name'])"
   ]
  },
  {
   "cell_type": "code",
   "execution_count": 18,
   "metadata": {},
   "outputs": [],
   "source": [
    "for bucket in s3.list_buckets()['Buckets']:\n",
    "    bucket_policy = {\n",
    "                      \"Version\":\"2012-10-17\",\n",
    "                      \"Statement\":[\n",
    "                        {\n",
    "                          \"Sid\":\"AddPerm\",\n",
    "                          \"Effect\":\"Allow\",\n",
    "                          \"Principal\": \"*\",\n",
    "                          \"Action\":[\"s3:GetObject\"],\n",
    "                          \"Resource\":[\"arn:aws:s3:::{0}/*\".format(bucket['Name'])]\n",
    "                        }\n",
    "                      ]\n",
    "                    }\n",
    "    bucket_policy = json.dumps(bucket_policy)\n",
    "    s3.put_bucket_policy(Bucket=bucket['Name'], Policy=bucket_policy)"
   ]
  },
  {
   "cell_type": "code",
   "execution_count": 21,
   "metadata": {},
   "outputs": [],
   "source": [
    "def create_topic(topic):\n",
    "    topic_arn = sns.create_topic(Name=topic, Attributes=attributes)['TopicArn']\n",
    "    return topic_arn"
   ]
  },
  {
   "cell_type": "code",
   "execution_count": 22,
   "metadata": {},
   "outputs": [
    {
     "data": {
      "text/plain": [
       "'arn:aws:sns:s3a::xray-images-anonymized'"
      ]
     },
     "execution_count": 22,
     "metadata": {},
     "output_type": "execute_result"
    }
   ],
   "source": [
    "create_topic('xray-images-anonymized')"
   ]
  },
  {
   "cell_type": "code",
   "execution_count": 23,
   "metadata": {},
   "outputs": [
    {
     "data": {
      "text/plain": [
       "{'Topics': [{'TopicArn': 'arn:aws:sns:s3a::xray-images'},\n",
       "  {'TopicArn': 'arn:aws:sns:s3a::xray-images-anonymized'},\n",
       "  {'TopicArn': 'arn:aws:sns:s3a::xray-images'}],\n",
       " 'ResponseMetadata': {'RequestId': 'f089746f-485e-410a-990a-e00f621fcdc3.164817.3298',\n",
       "  'HTTPStatusCode': 200,\n",
       "  'HTTPHeaders': {'x-amz-request-id': 'tx000000000000000000ce2-00603583c9-283d1-s3a',\n",
       "   'content-type': 'application/xml',\n",
       "   'content-length': '2209',\n",
       "   'date': 'Tue, 23 Feb 2021 22:38:01 GMT',\n",
       "   'connection': 'Keep-Alive'},\n",
       "  'RetryAttempts': 0}}"
      ]
     },
     "execution_count": 23,
     "metadata": {},
     "output_type": "execute_result"
    }
   ],
   "source": [
    "sns.list_topics()"
   ]
  },
  {
   "cell_type": "code",
   "execution_count": 24,
   "metadata": {},
   "outputs": [
    {
     "data": {
      "text/plain": [
       "{'ResponseMetadata': {'RequestId': 'tx000000000000000000ced-0060358426-283d1-s3a',\n",
       "  'HostId': '',\n",
       "  'HTTPStatusCode': 200,\n",
       "  'HTTPHeaders': {'x-amz-request-id': 'tx000000000000000000ced-0060358426-283d1-s3a',\n",
       "   'content-length': '0',\n",
       "   'date': 'Tue, 23 Feb 2021 22:39:34 GMT',\n",
       "   'connection': 'Keep-Alive'},\n",
       "  'RetryAttempts': 0}}"
      ]
     },
     "execution_count": 24,
     "metadata": {},
     "output_type": "execute_result"
    }
   ],
   "source": [
    "bucket_notifications_configuration = {\n",
    "            \"TopicConfigurations\": [\n",
    "                {\n",
    "                    \"Id\": 'xray-images-anonymized',\n",
    "                    \"TopicArn\": 'arn:aws:sns:s3a::xray-images-anonymized',\n",
    "                    \"Events\": [\"s3:ObjectCreated:*\"]\n",
    "                }\n",
    "            ]\n",
    "        }\n",
    "\n",
    "bucket_name = 'xraylab-0001-anonymized'\n",
    "s3.put_bucket_notification_configuration(Bucket = bucket_name,\n",
    "        NotificationConfiguration=bucket_notifications_configuration)"
   ]
  },
  {
   "cell_type": "code",
   "execution_count": null,
   "metadata": {},
   "outputs": [],
   "source": []
  }
 ],
 "metadata": {
  "kernelspec": {
   "display_name": "Python 3",
   "language": "python",
   "name": "python3"
  },
  "language_info": {
   "codemirror_mode": {
    "name": "ipython",
    "version": 3
   },
   "file_extension": ".py",
   "mimetype": "text/x-python",
   "name": "python",
   "nbconvert_exporter": "python",
   "pygments_lexer": "ipython3",
   "version": "3.6.8"
  }
 },
 "nbformat": 4,
 "nbformat_minor": 4
}
