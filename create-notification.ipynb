{
 "cells": [
  {
   "cell_type": "code",
   "execution_count": null,
   "metadata": {},
   "outputs": [],
   "source": [
    "# Warning!!!: On all those variables, don't remove the starting/ending quotes when doing copy/paste\n",
    "# Enter the main namespace name of this lab. It should be in the form xraylab-{guid}, like xraylab-f2d5\n",
    "namespace = 'xraylab-0001'\n",
    "\n",
    "# Enter you bucket base name. That's the same one you have put in the config map. It should be identical as your namespace if you have followed instructions.\n",
    "bucket_base_name = 'xraylab-0001'\n",
    "\n",
    "# Enter you Access and Secret keys. They're the ones that were displayed in the instructions.\n",
    "aws_access_key_id = '02JMAK69UEON1JGYKSN9'\n",
    "aws_secret_access_key = 'fedp7q3LodO2hiGQyP2SVJSTDwL6BfScMjBLs0ey'\n",
    "\n",
    "# Do not change this value, this is the internal location for the RGW\n",
    "endpoint_url = 'http://rook-ceph-rgw-s3a.openshift-storage.svc.cluster.local'\n",
    "\n",
    "attributes = {}\n",
    "attributes['push-endpoint'] = 'kafka://my-cluster-kafka-bootstrap.'+namespace+':9092'\n",
    "attributes['kafka-ack-level'] = 'broker'"
   ]
  },
  {
   "cell_type": "code",
   "execution_count": null,
   "metadata": {},
   "outputs": [],
   "source": [
    "pip install boto3"
   ]
  },
  {
   "cell_type": "code",
   "execution_count": null,
   "metadata": {},
   "outputs": [],
   "source": [
    "import boto3\n",
    "import json\n",
    "import botocore\n",
    "import argparse"
   ]
  },
  {
   "cell_type": "code",
   "execution_count": null,
   "metadata": {},
   "outputs": [],
   "source": [
    "s3 = boto3.client('s3',\n",
    "                endpoint_url = endpoint_url,\n",
    "                aws_access_key_id = aws_access_key_id,\n",
    "                aws_secret_access_key = aws_secret_access_key,\n",
    "                region_name = 'default',\n",
    "                config=botocore.client.Config(signature_version = 's3'))\n",
    "\n",
    "sns = boto3.client('sns', \n",
    "                endpoint_url = endpoint_url, \n",
    "                aws_access_key_id = aws_access_key_id,\n",
    "                aws_secret_access_key= aws_secret_access_key,\n",
    "                region_name='default', \n",
    "                config=botocore.client.Config(signature_version = 's3'))"
   ]
  },
  {
   "cell_type": "code",
   "execution_count": null,
   "metadata": {},
   "outputs": [],
   "source": [
    "for bucket in s3.list_buckets()['Buckets']:\n",
    "    name = bucket['Name']\n",
    "    print(\"BUCKET: \" + name)"
   ]
  },
  {
   "cell_type": "code",
   "execution_count": null,
   "metadata": {},
   "outputs": [],
   "source": [
    "bucket = s3.list_objects_v2(Bucket='xraylab-0001-anonymized')\n",
    "for obj in bucket['Contents']:\n",
    "    print(obj['Key'])"
   ]
  },
  {
   "cell_type": "code",
   "execution_count": null,
   "metadata": {},
   "outputs": [],
   "source": [
    "for bucket in s3.list_buckets()['Buckets']:\n",
    "    bucket_policy = {\n",
    "                      \"Version\":\"2012-10-17\",\n",
    "                      \"Statement\":[\n",
    "                        {\n",
    "                          \"Sid\":\"AddPerm\",\n",
    "                          \"Effect\":\"Allow\",\n",
    "                          \"Principal\": \"*\",\n",
    "                          \"Action\":[\"s3:GetObject\"],\n",
    "                          \"Resource\":[\"arn:aws:s3:::{0}/*\".format(bucket['Name'])]\n",
    "                        }\n",
    "                      ]\n",
    "                    }\n",
    "    bucket_policy = json.dumps(bucket_policy)\n",
    "    s3.put_bucket_policy(Bucket=bucket['Name'], Policy=bucket_policy)"
   ]
  },
  {
   "cell_type": "code",
   "execution_count": null,
   "metadata": {},
   "outputs": [],
   "source": [
    "def create_topic(topic):\n",
    "    topic_arn = sns.create_topic(Name=topic, Attributes=attributes)['TopicArn']\n",
    "    return topic_arn"
   ]
  },
  {
   "cell_type": "code",
   "execution_count": null,
   "metadata": {},
   "outputs": [],
   "source": [
    "create_topic('xray-images-anonymized')"
   ]
  },
  {
   "cell_type": "code",
   "execution_count": null,
   "metadata": {},
   "outputs": [],
   "source": [
    "sns.list_topics()"
   ]
  },
  {
   "cell_type": "code",
   "execution_count": null,
   "metadata": {},
   "outputs": [],
   "source": [
    "bucket_notifications_configuration = {\n",
    "            \"TopicConfigurations\": [\n",
    "                {\n",
    "                    \"Id\": 'xray-images-anonymized',\n",
    "                    \"TopicArn\": 'arn:aws:sns:s3a::xray-images-anonymized',\n",
    "                    \"Events\": [\"s3:ObjectCreated:*\"]\n",
    "                }\n",
    "            ]\n",
    "        }\n",
    "\n",
    "bucket_name = 'xraylab-0001-anonymized'\n",
    "s3.put_bucket_notification_configuration(Bucket = bucket_name,\n",
    "        NotificationConfiguration=bucket_notifications_configuration)"
   ]
  },
  {
   "cell_type": "code",
   "execution_count": null,
   "metadata": {},
   "outputs": [],
   "source": []
  }
 ],
 "metadata": {
  "kernelspec": {
   "display_name": "Python 3",
   "language": "python",
   "name": "python3"
  },
  "language_info": {
   "codemirror_mode": {
    "name": "ipython",
    "version": 3
   },
   "file_extension": ".py",
   "mimetype": "text/x-python",
   "name": "python",
   "nbconvert_exporter": "python",
   "pygments_lexer": "ipython3",
   "version": "3.6.8"
  }
 },
 "nbformat": 4,
 "nbformat_minor": 4
}
