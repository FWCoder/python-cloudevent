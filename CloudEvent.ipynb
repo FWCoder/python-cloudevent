{
 "cells": [
  {
   "cell_type": "code",
   "execution_count": null,
   "metadata": {},
   "outputs": [],
   "source": [
    "pip install kafka-python"
   ]
  },
  {
   "cell_type": "code",
   "execution_count": null,
   "metadata": {},
   "outputs": [],
   "source": [
    "from kafka import KafkaProducer\n",
    "import json, uuid, datetime"
   ]
  },
  {
   "cell_type": "code",
   "execution_count": null,
   "metadata": {},
   "outputs": [],
   "source": [
    "kafkaBootstrapURL=\"kogito-kafka-kafka-bootstrap.xray-kogito-process.svc:9092\"\n",
    "topic='xray'\n",
    "test_data={\"Records\":[{\"eventVersion\":\"2.2\",\"eventSource\":\"ceph:s3\",\"awsRegion\":\"\",\"eventTime\":\"2021-02-19 02:03:08.330496Z\",\"eventName\":\"s3:ObjectCreated:Put\",\"userIdentity\":{\"principalId\":\"xraylab-0001\"},\"requestParameters\":{\"sourceIPAddress\":\"\"},\"responseElements\":{\"x-amz-request-id\":\"f089746f-485e-410a-990a-e00f621fcdc3.24146.351\",\"x-amz-id-2\":\"5e52-s3a-s3a\"},\"s3\":{\"s3SchemaVersion\":\"1.0\",\"configurationId\":\"xray-images\",\"bucket\":{\"name\":\"xraylab-0001\",\"ownerIdentity\":{\"principalId\":\"xraylab-0001\"},\"arn\":\"arn:aws:s3:::xraylab-0001\",\"id\":\"f089746f-485e-410a-990a-e00f621fcdc3.24152.1\"},\"object\":{\"key\":\"demo_Micheal Phillips_6580_1947-05-22_2017-04-27.jpeg\",\"size\":108622,\"etag\":\"819c1e1c1b4c7b9853301ba2e6c300f1\",\"versionId\":\"\",\"sequencer\":\"5C1C2F6049974614\",\"metadata\":[{\"key\":\"x-amz-content-sha256\",\"val\":\"f7d632b7b02aeb97248e20e32c02dc0d2a8336927cbe487dc4d218dd1864e775\"},{\"key\":\"x-amz-date\",\"val\":\"20210219T020308Z\"}],\"tags\":[]}},\"eventId\":\"1613700188.340170.819c1e1c1b4c7b9853301ba2e6c300f1\",\"opaqueData\":\"\"}]}"
   ]
  },
  {
   "cell_type": "code",
   "execution_count": null,
   "metadata": {},
   "outputs": [],
   "source": [
    "producer = KafkaProducer(bootstrap_servers=[kafkaBootstrapURL])"
   ]
  },
  {
   "cell_type": "code",
   "execution_count": null,
   "metadata": {},
   "outputs": [],
   "source": [
    "def extract_cloud_event_data(data):\n",
    "    record=data['Records'][0]\n",
    "    event_name=record['eventName']\n",
    "    name=record['s3']['bucket']['name']\n",
    "    key=record['s3']['object']['key']\n",
    "    data_out = {'eventName':event_name, 'name':name, 'key':key}\n",
    "    return data_out"
   ]
  },
  {
   "cell_type": "code",
   "execution_count": null,
   "metadata": {},
   "outputs": [],
   "source": [
    "try:\n",
    "    producer.send(topic, bytes(event_json_str, \"UTF-8\")).get(timeout=10)\n",
    "except IndexError as e:\n",
    "    print(e)"
   ]
  },
  {
   "cell_type": "code",
   "execution_count": null,
   "metadata": {},
   "outputs": [],
   "source": [
    "extracted_data = extract_cloud_event_data(test_data)"
   ]
  },
  {
   "cell_type": "code",
   "execution_count": null,
   "metadata": {},
   "outputs": [],
   "source": [
    "event = {}\n",
    "event['id'] = str(uuid.uuid4())\n",
    "event['source'] = ''\n",
    "event['type'] = 'XrayEvent'\n",
    "event['specversion'] = '0.3'\n",
    "event['time'] = datetime.datetime.utcnow().isoformat('T') + 'Z'\n",
    "event['data'] = extracted_data\n",
    "event_json_str = json.dumps(event)\n",
    "print(event_json_str)"
   ]
  },
  {
   "cell_type": "code",
   "execution_count": null,
   "metadata": {},
   "outputs": [],
   "source": [
    "try:\n",
    "    producer.send(topic, bytes(event_json_str, \"UTF-8\")).get(timeout=10)\n",
    "except IndexError as e:\n",
    "    print(e)"
   ]
  },
  {
   "cell_type": "code",
   "execution_count": null,
   "metadata": {},
   "outputs": [],
   "source": []
  }
 ],
 "metadata": {
  "kernelspec": {
   "display_name": "Python 3",
   "language": "python",
   "name": "python3"
  },
  "language_info": {
   "codemirror_mode": {
    "name": "ipython",
    "version": 3
   },
   "file_extension": ".py",
   "mimetype": "text/x-python",
   "name": "python",
   "nbconvert_exporter": "python",
   "pygments_lexer": "ipython3",
   "version": "3.6.8"
  }
 },
 "nbformat": 4,
 "nbformat_minor": 4
}
